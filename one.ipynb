{
 "cells": [
  {
   "cell_type": "markdown",
   "metadata": {},
   "source": [
    "# Getting Libraries "
   ]
  },
  {
   "cell_type": "code",
   "execution_count": 1,
   "metadata": {},
   "outputs": [],
   "source": [
    "# Importing Libraries EDA Libraries:\n",
    "import pandas as pd\n",
    "import numpy as np\n",
    "import matplotlib.pyplot as plt\n",
    "import seaborn as sns\n",
    "%matplotlib inline\n",
    "\n",
    "# Libraries for Encoding \n",
    "# Label will provide numberical value for categorical feature\n",
    "# One hot coder will create different columns\n",
    "# We can use pd.get_dummpy('feature name', drop_frist =True)\n",
    "from sklearn.preprocessing import LabelEncoder, OneHotEncoder\n",
    "Encode = LabelEncoder()\n",
    "\n",
    "# Libraries for Standardization\n",
    "from sklearn.preprocessing import StandardScaler,MinMaxScaler\n",
    "Sc = StandardScaler()\n",
    "Mnmx_Sc= MinMaxScaler()\n",
    "\n",
    "# linear regression Libraries\n",
    "# To calculate multicollinearity and VIF \n",
    "import statsmodels.api as sm\n",
    "from scipy import stats\n",
    "\n",
    "# for model building\n",
    "# train test split\n",
    "from  sklearn.model_selection import train_test_split\n",
    "# Linear model Libraries and Evaluation \n",
    "from sklearn import linear_model\n",
    "from sklearn.linear_model import LinearRegression, Ridge, Lasso, ElasticNet\n",
    "from sklearn.metrics import mean_squared_error, r2_score\n",
    "\n",
    "# for polynomial featrues and other regressors\n",
    "\n",
    "from sklearn.preprocessing import PolynomialFeatures\n",
    "from sklearn.tree import DecisionTreeRegressor\n",
    "from sklearn.ensemble import RandomForestRegressor\n",
    "import xgboost as xgb"
   ]
  },
  {
   "cell_type": "markdown",
   "metadata": {},
   "source": [
    "# EDA: Cleaning, Preprocessing and Feature Engineering "
   ]
  },
  {
   "cell_type": "raw",
   "metadata": {},
   "source": [
    "Variable:\tDefinition\n",
    "User_ID:\tUser ID\n",
    "Product_ID:\tProduct ID\n",
    "Gender:\t    Sex of User\n",
    "Age:    \tAge in bins\n",
    "Occupation:\tOccupation (Masked)\n",
    "City_Category:\tCategory of the City (A,B,C)\n",
    "Stay_In_Current_City_Years:\tNumber of years stay in current city\n",
    "Marital_Status:\tMarital Status\n",
    "Product_Category_1:\tProduct Category (Masked)\n",
    "Product_Category_2:\tProduct may belongs to other category also (Masked)\n",
    "Product_Category_3:\tProduct may belongs to other category also (Masked)\n",
    "Purchase:\tPurchase Amount (Target Variable)"
   ]
  },
  {
   "cell_type": "code",
   "execution_count": 2,
   "metadata": {},
   "outputs": [],
   "source": [
    "# importing dataset\n",
    "train = pd.read_csv('train.csv')\n",
    "test = pd.read_csv('test.csv')\n",
    "\n",
    "#creating dataframe for the required output\n",
    "\n",
    "submission = pd.DataFrame()\n",
    "submission['User_ID'] = test['User_ID']\n",
    "submission['Product_ID'] = test['Product_ID']"
   ]
  },
  {
   "cell_type": "code",
   "execution_count": null,
   "metadata": {},
   "outputs": [],
   "source": [
    "train.head(50)"
   ]
  },
  {
   "cell_type": "code",
   "execution_count": null,
   "metadata": {},
   "outputs": [],
   "source": [
    "\n",
    "train.iloc[1]\n",
    "#train.describe()\n",
    "test.iloc[-1]\n",
    "test.head(10)"
   ]
  },
  {
   "cell_type": "code",
   "execution_count": null,
   "metadata": {},
   "outputs": [],
   "source": [
    "train.isna().sum()\n",
    "#test.isna().sum()"
   ]
  },
  {
   "cell_type": "code",
   "execution_count": null,
   "metadata": {},
   "outputs": [],
   "source": [
    "test.isna().sum()"
   ]
  },
  {
   "cell_type": "markdown",
   "metadata": {},
   "source": [
    "We will Fill NA values after Table Transformation.\n"
   ]
  },
  {
   "cell_type": "markdown",
   "metadata": {},
   "source": [
    "test['Product_Category_2'].fillna(value=-999,inplace = True)\n",
    "test['Product_Category_3'].fillna(value=-999,inplace = True)\n",
    "#test.isna().sum()"
   ]
  },
  {
   "cell_type": "code",
   "execution_count": 3,
   "metadata": {},
   "outputs": [
    {
     "name": "stderr",
     "output_type": "stream",
     "text": [
      "C:\\Users\\mgupta1\\AppData\\Local\\Continuum\\lib\\site-packages\\sklearn\\preprocessing\\label.py:235: DataConversionWarning: A column-vector y was passed when a 1d array was expected. Please change the shape of y to (n_samples, ), for example using ravel().\n",
      "  y = column_or_1d(y, warn=True)\n"
     ]
    }
   ],
   "source": [
    "Encode = LabelEncoder()\n",
    "test['Gender'] = Encode.fit_transform(test['Gender'])\n",
    "test[['City_Category']] = Encode.fit_transform(test[['City_Category']])\n",
    "train['Gender'] = Encode.fit_transform(train['Gender'])\n",
    "train[['City_Category']] = Encode.fit_transform(train[['City_Category']])\n",
    "train['Stay_In_Current_City_Years']=train['Stay_In_Current_City_Years'].apply(lambda x: 4 if x =='4+' else x)\n",
    "test['Stay_In_Current_City_Years']=test['Stay_In_Current_City_Years'].apply(lambda x: 4 if x =='4+' else x)\n",
    "train['Age']=Encode.fit_transform(train['Age'])\n",
    "test['Age']=Encode.fit_transform(test['Age'])\n"
   ]
  },
  {
   "cell_type": "raw",
   "metadata": {},
   "source": [
    "# We will use label encoder to categorise data better\n",
    "test['Gender'] = Encode.fit_transform(test['Gender'])\n",
    "test[['City_Category']] = Encode.fit_transform(test[['City_Category']])"
   ]
  },
  {
   "cell_type": "raw",
   "metadata": {},
   "source": [
    "# We will use hot encoder to categorise data better\n",
    "train['Gender'] = Encode.fit_transform(train['Gender'])\n",
    "train[['City_Category']] = Encode.fit_transform(train[['City_Category']])"
   ]
  },
  {
   "cell_type": "raw",
   "metadata": {},
   "source": [
    "# In age column there is one value 4+ \n",
    "train['Stay_In_Current_City_Years'].value_counts()"
   ]
  },
  {
   "cell_type": "raw",
   "metadata": {},
   "source": [
    "# We are checking the age of the customers who are staying there for more than 4 years\n",
    "#train[train['Stay_In_Current_City_Years']=='4+']['Age'].head(5)\n",
    "test[test['Stay_In_Current_City_Years']=='4+']['Age'].head(5)"
   ]
  },
  {
   "cell_type": "raw",
   "metadata": {},
   "source": [
    "# Taking average for 4+ years, mean age of customers came 18-55; we will just keep 15 as different category \n",
    "# which will show residence of city. \n",
    "train['Stay_In_Current_City_Years']=train['Stay_In_Current_City_Years'].apply(lambda x: 15 if x =='4+' else x)\n",
    "test['Stay_In_Current_City_Years']=test['Stay_In_Current_City_Years'].apply(lambda x: 15 if x =='4+' else x)"
   ]
  },
  {
   "cell_type": "raw",
   "metadata": {},
   "source": [
    "train['Age']=Encode.fit_transform(train['Age'])\n",
    "test['Age']=Encode.fit_transform(test['Age'])"
   ]
  },
  {
   "cell_type": "raw",
   "metadata": {},
   "source": [
    "feat_names = [x for x in train.columns if x != 'Purchase']\n",
    "#feat_names"
   ]
  },
  {
   "cell_type": "code",
   "execution_count": 4,
   "metadata": {},
   "outputs": [
    {
     "data": {
      "text/plain": [
       "<matplotlib.collections.PathCollection at 0x1bc1e8f2278>"
      ]
     },
     "execution_count": 4,
     "metadata": {},
     "output_type": "execute_result"
    },
    {
     "data": {
      "image/png": "[encoded data removed]",
      "text/plain": [
       "<Figure size 432x288 with 1 Axes>"
      ]
     },
     "metadata": {
      "needs_background": "light"
     },
     "output_type": "display_data"
    }
   ],
   "source": [
    "plt.scatter(x= 'User_ID',y='Purchase', data=train.sample(n=600))"
   ]
  },
  {
   "cell_type": "code",
   "execution_count": null,
   "metadata": {},
   "outputs": [],
   "source": [
    "train.head()"
   ]
  },
  {
   "cell_type": "code",
   "execution_count": null,
   "metadata": {},
   "outputs": [],
   "source": [
    "train.describe()\n",
    "# We still see objects even after converting these categorical features"
   ]
  },
  {
   "cell_type": "raw",
   "metadata": {},
   "source": [
    "# According to user ID how many times ID is used to make a purchase.\n",
    "train_ui_count = train.groupby('User_ID').count().head()\n",
    "test_ui_count = test.groupby('User_ID').count().head()"
   ]
  },
  {
   "cell_type": "raw",
   "metadata": {},
   "source": [
    "# According to ID how many items of what category he has bought and how much amount he has spent.\n",
    "train_ui_sum = train[['User_ID','Product_Category_1','Product_Category_2','Product_Category_3','Purchase']].groupby('User_ID').sum().head()\n",
    "test_ui_sum = test[['User_ID','Product_Category_1','Product_Category_2','Product_Category_3']].groupby('User_ID').sum().head()\n"
   ]
  },
  {
   "cell_type": "raw",
   "metadata": {},
   "source": [
    "# According to product ID how many times ID is used to make a purchase.\n",
    "train_pi_count = train[['Product_ID','Product_Category_1','Product_Category_2','Product_Category_3','Purchase']].groupby('Product_ID').count().head()\n",
    "test_pi_count = test[['Product_ID','Product_Category_1','Product_Category_2','Product_Category_3',]].groupby('Product_ID').count().head()\n"
   ]
  },
  {
   "cell_type": "raw",
   "metadata": {},
   "source": [
    "# According to product ID how many items of what category he has bought and how much amount he has spent.\n",
    "train_pi_sum = train[['Product_ID','Product_Category_1','Product_Category_2','Product_Category_3','Purchase']].groupby('Product_ID').sum().head()\n",
    "test_pi_sum = test[['Product_ID','Product_Category_1','Product_Category_2','Product_Category_3',]].groupby('Product_ID').sum().head()\n"
   ]
  },
  {
   "cell_type": "markdown",
   "metadata": {},
   "source": [
    "# Problem Statement\n",
    "A retail company “ABC Private Limited” wants to understand the customer purchase behaviour (specifically, purchase amount) against various products of different categories. They have shared purchase summary of various customers for selected high volume products from last month.\n",
    "The data set also contains customer demographics (age, gender, marital status, city_type, stay_in_current_city), product details (product_id and product category) and Total purchase_amount from last month.\n",
    "\n",
    "Now, they want to build a model to predict the purchase amount of customer against various products which will help them to create personalized offer for customers against different products.\n",
    "\n"
   ]
  },
  {
   "cell_type": "markdown",
   "metadata": {},
   "source": [
    "# What columns shall we add to make it more of a good dataset\n",
    "\n",
    "\n",
    "We would make columns for count of each category, How will it help:\n",
    "1. how many of the same customers are looking for same thing, age group. We will know for a perticular product ID this many of this age/ marital status/occupation who also have bought this many product category.\n",
    "\n",
    "2. (mean price/ Min and Max amount spent)what is avg speding of a customer on each category. Mean price according to user_id (what avg amount he spends)| Mean price accoding to product_id (What avg amount is spend on all the categories)| \n",
    "\n",
    "3. 25 and 75 percentile price coulumn for each category "
   ]
  },
  {
   "cell_type": "markdown",
   "metadata": {},
   "source": [
    "train.groupby(['Age'])['Age'].count()"
   ]
  },
  {
   "cell_type": "markdown",
   "metadata": {},
   "source": [
    "train.groupby(['Age'])['Age'].transform('count')"
   ]
  },
  {
   "cell_type": "code",
   "execution_count": 5,
   "metadata": {},
   "outputs": [],
   "source": [
    "train[\"Age_Count\"] = train.groupby(['Age'])['Age'].transform('count')\n",
    "age_count_dict = train.groupby(['Age']).size().to_dict()\n",
    "test['Age_Count'] = test['Age'].apply(lambda x:age_count_dict.get(x,0))\n",
    "# we are using train count in test count\n",
    "\n",
    "train[\"Occupation_Count\"] = train.groupby(['Occupation'])['Occupation'].transform('count')\n",
    "occupation_count_dict = train.groupby(['Occupation']).size().to_dict()\n",
    "test['Occupation_Count'] = test['Occupation'].apply(lambda x:occupation_count_dict.get(x,0))\n",
    "\n",
    "train[\"Product_Category_1_Count\"] = train.groupby(['Product_Category_1'])['Product_Category_1'].transform('count')\n",
    "pc1_count_dict = train.groupby(['Product_Category_1']).size().to_dict()\n",
    "test['Product_Category_1_Count'] = test['Product_Category_1'].apply(lambda x:pc1_count_dict.get(x,0))\n",
    "\n",
    "# Product category 2 & 3 has NA values but in count we are calculating actual count so \n",
    "\n",
    "train[\"Product_Category_2_Count\"] = train.groupby(['Product_Category_2'])['Product_Category_2'].transform('count')\n",
    "pc2_count_dict = train.groupby(['Product_Category_2']).size().to_dict()\n",
    "test['Product_Category_2_Count'] = test['Product_Category_2'].apply(lambda x:pc2_count_dict.get(x,0))\n",
    "\n",
    "train[\"Product_Category_3_Count\"] = train.groupby(['Product_Category_3'])['Product_Category_3'].transform('count')\n",
    "pc3_count_dict = train.groupby(['Product_Category_3']).size().to_dict()\n",
    "test['Product_Category_3_Count'] = test['Product_Category_3'].apply(lambda x:pc3_count_dict.get(x,0))\n",
    "\n",
    "train[\"User_ID_Count\"] = train.groupby(['User_ID'])['User_ID'].transform('count')\n",
    "userID_count_dict = train.groupby(['User_ID']).size().to_dict()\n",
    "test['User_ID_Count'] = test['User_ID'].apply(lambda x:userID_count_dict.get(x,0))\n",
    "\n",
    "train[\"Product_ID_Count\"] = train.groupby(['Product_ID'])['Product_ID'].transform('count')\n",
    "productID_count_dict = train.groupby(['Product_ID']).size().to_dict()\n",
    "test['Product_ID_Count'] = test['Product_ID'].apply(lambda x:productID_count_dict.get(x,0))"
   ]
  },
  {
   "cell_type": "code",
   "execution_count": 6,
   "metadata": {},
   "outputs": [
    {
     "data": {
      "text/html": [
       "<div>\n",
       "<style scoped>\n",
       "    .dataframe tbody tr th:only-of-type {\n",
       "        vertical-align: middle;\n",
       "    }\n",
       "\n",
       "    .dataframe tbody tr th {\n",
       "        vertical-align: top;\n",
       "    }\n",
       "\n",
       "    .dataframe thead th {\n",
       "        text-align: right;\n",
       "    }\n",
       "</style>\n",
       "<table border=\"1\" class=\"dataframe\">\n",
       "  <thead>\n",
       "    <tr style=\"text-align: right;\">\n",
       "      <th></th>\n",
       "      <th>User_ID</th>\n",
       "      <th>Product_ID</th>\n",
       "      <th>Gender</th>\n",
       "      <th>Age</th>\n",
       "      <th>Occupation</th>\n",
       "      <th>City_Category</th>\n",
       "      <th>Stay_In_Current_City_Years</th>\n",
       "      <th>Marital_Status</th>\n",
       "      <th>Product_Category_1</th>\n",
       "      <th>Product_Category_2</th>\n",
       "      <th>Product_Category_3</th>\n",
       "      <th>Purchase</th>\n",
       "      <th>Age_Count</th>\n",
       "      <th>Occupation_Count</th>\n",
       "      <th>Product_Category_1_Count</th>\n",
       "      <th>Product_Category_2_Count</th>\n",
       "      <th>Product_Category_3_Count</th>\n",
       "      <th>User_ID_Count</th>\n",
       "      <th>Product_ID_Count</th>\n",
       "    </tr>\n",
       "  </thead>\n",
       "  <tbody>\n",
       "    <tr>\n",
       "      <th>0</th>\n",
       "      <td>1000001</td>\n",
       "      <td>P00069042</td>\n",
       "      <td>0</td>\n",
       "      <td>0</td>\n",
       "      <td>10</td>\n",
       "      <td>0</td>\n",
       "      <td>2</td>\n",
       "      <td>0</td>\n",
       "      <td>3</td>\n",
       "      <td>NaN</td>\n",
       "      <td>NaN</td>\n",
       "      <td>8370</td>\n",
       "      <td>15102</td>\n",
       "      <td>12930</td>\n",
       "      <td>20213</td>\n",
       "      <td>NaN</td>\n",
       "      <td>NaN</td>\n",
       "      <td>35</td>\n",
       "      <td>227</td>\n",
       "    </tr>\n",
       "    <tr>\n",
       "      <th>1</th>\n",
       "      <td>1000001</td>\n",
       "      <td>P00248942</td>\n",
       "      <td>0</td>\n",
       "      <td>0</td>\n",
       "      <td>10</td>\n",
       "      <td>0</td>\n",
       "      <td>2</td>\n",
       "      <td>0</td>\n",
       "      <td>1</td>\n",
       "      <td>6.0</td>\n",
       "      <td>14.0</td>\n",
       "      <td>15200</td>\n",
       "      <td>15102</td>\n",
       "      <td>12930</td>\n",
       "      <td>140378</td>\n",
       "      <td>16466.0</td>\n",
       "      <td>18428.0</td>\n",
       "      <td>35</td>\n",
       "      <td>581</td>\n",
       "    </tr>\n",
       "    <tr>\n",
       "      <th>2</th>\n",
       "      <td>1000001</td>\n",
       "      <td>P00087842</td>\n",
       "      <td>0</td>\n",
       "      <td>0</td>\n",
       "      <td>10</td>\n",
       "      <td>0</td>\n",
       "      <td>2</td>\n",
       "      <td>0</td>\n",
       "      <td>12</td>\n",
       "      <td>NaN</td>\n",
       "      <td>NaN</td>\n",
       "      <td>1422</td>\n",
       "      <td>15102</td>\n",
       "      <td>12930</td>\n",
       "      <td>3947</td>\n",
       "      <td>NaN</td>\n",
       "      <td>NaN</td>\n",
       "      <td>35</td>\n",
       "      <td>102</td>\n",
       "    </tr>\n",
       "    <tr>\n",
       "      <th>3</th>\n",
       "      <td>1000001</td>\n",
       "      <td>P00085442</td>\n",
       "      <td>0</td>\n",
       "      <td>0</td>\n",
       "      <td>10</td>\n",
       "      <td>0</td>\n",
       "      <td>2</td>\n",
       "      <td>0</td>\n",
       "      <td>12</td>\n",
       "      <td>14.0</td>\n",
       "      <td>NaN</td>\n",
       "      <td>1057</td>\n",
       "      <td>15102</td>\n",
       "      <td>12930</td>\n",
       "      <td>3947</td>\n",
       "      <td>55108.0</td>\n",
       "      <td>NaN</td>\n",
       "      <td>35</td>\n",
       "      <td>341</td>\n",
       "    </tr>\n",
       "    <tr>\n",
       "      <th>4</th>\n",
       "      <td>1000002</td>\n",
       "      <td>P00285442</td>\n",
       "      <td>1</td>\n",
       "      <td>6</td>\n",
       "      <td>16</td>\n",
       "      <td>2</td>\n",
       "      <td>4</td>\n",
       "      <td>0</td>\n",
       "      <td>8</td>\n",
       "      <td>NaN</td>\n",
       "      <td>NaN</td>\n",
       "      <td>7969</td>\n",
       "      <td>21504</td>\n",
       "      <td>25371</td>\n",
       "      <td>113925</td>\n",
       "      <td>NaN</td>\n",
       "      <td>NaN</td>\n",
       "      <td>77</td>\n",
       "      <td>203</td>\n",
       "    </tr>\n",
       "  </tbody>\n",
       "</table>\n",
       "</div>"
      ],
      "text/plain": [
       "   User_ID Product_ID  Gender  Age  Occupation  City_Category  \\\n",
       "0  1000001  P00069042       0    0          10              0   \n",
       "1  1000001  P00248942       0    0          10              0   \n",
       "2  1000001  P00087842       0    0          10              0   \n",
       "3  1000001  P00085442       0    0          10              0   \n",
       "4  1000002  P00285442       1    6          16              2   \n",
       "\n",
       "  Stay_In_Current_City_Years  Marital_Status  Product_Category_1  \\\n",
       "0                          2               0                   3   \n",
       "1                          2               0                   1   \n",
       "2                          2               0                  12   \n",
       "3                          2               0                  12   \n",
       "4                          4               0                   8   \n",
       "\n",
       "   Product_Category_2  Product_Category_3  Purchase  Age_Count  \\\n",
       "0                 NaN                 NaN      8370      15102   \n",
       "1                 6.0                14.0     15200      15102   \n",
       "2                 NaN                 NaN      1422      15102   \n",
       "3                14.0                 NaN      1057      15102   \n",
       "4                 NaN                 NaN      7969      21504   \n",
       "\n",
       "   Occupation_Count  Product_Category_1_Count  Product_Category_2_Count  \\\n",
       "0             12930                     20213                       NaN   \n",
       "1             12930                    140378                   16466.0   \n",
       "2             12930                      3947                       NaN   \n",
       "3             12930                      3947                   55108.0   \n",
       "4             25371                    113925                       NaN   \n",
       "\n",
       "   Product_Category_3_Count  User_ID_Count  Product_ID_Count  \n",
       "0                       NaN             35               227  \n",
       "1                   18428.0             35               581  \n",
       "2                       NaN             35               102  \n",
       "3                       NaN             35               341  \n",
       "4                       NaN             77               203  "
      ]
     },
     "execution_count": 6,
     "metadata": {},
     "output_type": "execute_result"
    }
   ],
   "source": [
    "train.head()"
   ]
  },
  {
   "cell_type": "raw",
   "metadata": {},
   "source": [
    "# We will drop user ID and change product id into categorical feature [and then we will standardise those values]\n",
    "# We will use hot encoder to categorise data better\n",
    "#train[['Product_ID','Occupation']] = Sc.fit_transform(train[['Product_ID','Occupation']])\n",
    "#test[['Product_ID','Occupation']] = Sc.fit_transform(test[['Product_ID','Occupation']])\n",
    "train[['Occupation']] = Sc.fit_transform(train[['Occupation']])\n",
    "test[['Occupation']] = Sc.fit_transform(test[['Occupation']])"
   ]
  },
  {
   "cell_type": "code",
   "execution_count": 10,
   "metadata": {},
   "outputs": [],
   "source": [
    "# min spend by any user:\n",
    "#train.groupby(['User_ID'])['Purchase'].transform(min)"
   ]
  },
  {
   "cell_type": "markdown",
   "metadata": {},
   "source": [
    "# Creating Min, Mean and Max columns"
   ]
  },
  {
   "cell_type": "code",
   "execution_count": 11,
   "metadata": {},
   "outputs": [],
   "source": [
    "train[\"User_ID_MinPrice\"] = train.groupby(['User_ID'])['Purchase'].transform('min')\n",
    "userID_min_dict = train.groupby(['User_ID'])['Purchase'].min().to_dict()\n",
    "test['User_ID_MinPrice'] = test['User_ID'].apply(lambda x:userID_min_dict.get(x,0))\n",
    "\n",
    "train[\"User_ID_MaxPrice\"] = train.groupby(['User_ID'])['Purchase'].transform('max')\n",
    "userID_max_dict = train.groupby(['User_ID'])['Purchase'].max().to_dict()\n",
    "test['User_ID_MaxPrice'] = test['User_ID'].apply(lambda x:userID_max_dict.get(x,0))\n",
    "\n",
    "train[\"User_ID_MeanPrice\"] = train.groupby(['User_ID'])['Purchase'].transform('mean')\n",
    "userID_mean_dict = train.groupby(['User_ID'])['Purchase'].mean().to_dict()\n",
    "test['User_ID_MeanPrice'] = test['User_ID'].apply(lambda x:userID_mean_dict.get(x,0))\n",
    "\n",
    "\n",
    "\n",
    "train[\"Product_ID_MinPrice\"] = train.groupby(['Product_ID'])['Purchase'].transform('min')\n",
    "productID_min_dict = train.groupby(['Product_ID'])['Purchase'].min().to_dict()\n",
    "test['Product_ID_MinPrice'] = test['Product_ID'].apply(lambda x:productID_min_dict.get(x,0))\n",
    "\n",
    "train[\"Product_ID_MaxPrice\"] = train.groupby(['Product_ID'])['Purchase'].transform('max')\n",
    "productID_max_dict = train.groupby(['Product_ID'])['Purchase'].max().to_dict()\n",
    "test['Product_ID_MaxPrice'] = test['Product_ID'].apply(lambda x:productID_max_dict.get(x,0))\n",
    "\n",
    "train[\"Product_ID_MeanPrice\"] = train.groupby(['Product_ID'])['Purchase'].transform('mean')\n",
    "productID_mean_dict = train.groupby(['Product_ID'])['Purchase'].mean().to_dict()\n",
    "test['Product_ID_MeanPrice'] = test['Product_ID'].apply(lambda x:productID_mean_dict.get(x,0))\n",
    "\n",
    "\n",
    "\n",
    "train[\"Product_Cat1_MinPrice\"] = train.groupby(['Product_Category_1'])['Purchase'].transform('min')\n",
    "pc1_min_dict = train.groupby(['Product_Category_1'])['Purchase'].min().to_dict()\n",
    "test['Product_Cat1_MinPrice'] = test['Product_Category_1'].apply(lambda x:pc1_min_dict.get(x,0))\n",
    "\n",
    "train[\"Product_Cat1_MaxPrice\"] = train.groupby(['Product_Category_1'])['Purchase'].transform('max')\n",
    "pc1_max_dict = train.groupby(['Product_Category_1'])['Purchase'].max().to_dict()\n",
    "test['Product_Cat1_MaxPrice'] = test['Product_Category_1'].apply(lambda x:pc1_max_dict.get(x,0))\n",
    "\n",
    "train[\"Product_Cat1_MeanPrice\"] = train.groupby(['Product_Category_1'])['Purchase'].transform('mean')\n",
    "pc1_mean_dict = train.groupby(['Product_Category_1'])['Purchase'].mean().to_dict()\n",
    "test['Product_Cat1_MeanPrice'] = test['Product_Category_1'].apply(lambda x:pc1_mean_dict.get(x,0))\n",
    "\n",
    "\n",
    "\n",
    "\n",
    "train[\"Product_Cat2_MinPrice\"] = train.groupby(['Product_Category_2'])['Purchase'].transform('min')\n",
    "pc2_min_dict = train.groupby(['Product_Category_2'])['Purchase'].min().to_dict()\n",
    "test['Product_Cat2_MinPrice'] = test['Product_Category_2'].apply(lambda x:pc2_min_dict.get(x,0))\n",
    "\n",
    "train[\"Product_Cat2_MaxPrice\"] = train.groupby(['Product_Category_2'])['Purchase'].transform('max')\n",
    "pc2_max_dict = train.groupby(['Product_Category_2'])['Purchase'].max().to_dict()\n",
    "test['Product_Cat2_MaxPrice'] = test['Product_Category_2'].apply(lambda x:pc2_max_dict.get(x,0))\n",
    "\n",
    "train[\"Product_Cat2_MeanPrice\"] = train.groupby(['Product_Category_2'])['Purchase'].transform('mean')\n",
    "pc2_mean_dict = train.groupby(['Product_Category_2'])['Purchase'].mean().to_dict()\n",
    "test['Product_Cat2_MeanPrice'] = test['Product_Category_2'].apply(lambda x:pc2_mean_dict.get(x,0))\n",
    "\n",
    "\n",
    "\n",
    "\n",
    "train[\"Product_Cat3_MinPrice\"] = train.groupby(['Product_Category_3'])['Purchase'].transform('min')\n",
    "pc3_min_dict = train.groupby(['Product_Category_3'])['Purchase'].min().to_dict()\n",
    "test['Product_Cat3_MinPrice'] = test['Product_Category_3'].apply(lambda x:pc3_min_dict.get(x,0))\n",
    "\n",
    "train[\"Product_Cat3_MaxPrice\"] = train.groupby(['Product_Category_3'])['Purchase'].transform('max')\n",
    "pc3_max_dict = train.groupby(['Product_Category_3'])['Purchase'].max().to_dict()\n",
    "test['Product_Cat3_MaxPrice'] = test['Product_Category_3'].apply(lambda x:pc3_max_dict.get(x,0))\n",
    "\n",
    "train[\"Product_Cat3_MeanPrice\"] = train.groupby(['Product_Category_3'])['Purchase'].transform('mean')\n",
    "pc3_mean_dict = train.groupby(['Product_Category_3'])['Purchase'].mean().to_dict()\n",
    "test['Product_Cat3_MeanPrice'] = test['Product_Category_3'].apply(lambda x:pc3_mean_dict.get(x,0))\n"
   ]
  },
  {
   "cell_type": "markdown",
   "metadata": {},
   "source": [
    "# creating 25th and 75th percentile columns on Purchase"
   ]
  },
  {
   "cell_type": "code",
   "execution_count": null,
   "metadata": {},
   "outputs": [],
   "source": [
    "userID_25p_dict = train.groupby(['User_ID'])['Purchase'].apply(lambda x:np.percentile(x,25)).to_dict()\n",
    "train['User_ID_25PerPrice'] = train['User_ID'].apply(lambda x:userID_25p_dict.get(x,0))\n",
    "test['User_ID_25PerPrice'] = test['User_ID'].apply(lambda x:userID_25p_dict.get(x,0))\n",
    "\n",
    "userID_75p_dict = train.groupby(['User_ID'])['Purchase'].apply(lambda x:np.percentile(x,75)).to_dict()\n",
    "train['User_ID_75PercPrice'] = train['User_ID'].apply(lambda x:userID_75p_dict.get(x,0))\n",
    "test['User_ID_75PercPrice'] = test['User_ID'].apply(lambda x:userID_75p_dict.get(x,0))\n",
    "\n",
    "\n",
    "productID_25p_dict = train.groupby(['Product_ID'])['Purchase'].apply(lambda x:np.percentile(x,25)).to_dict()\n",
    "train['Product_ID_25PercPrice'] = train['Product_ID'].apply(lambda x:productID_25p_dict.get(x,0))\n",
    "test['Product_ID_25PercPrice'] = test['Product_ID'].apply(lambda x:productID_25p_dict.get(x,0))\n",
    "\n",
    "productID_75p_dict = train.groupby(['Product_ID'])['Purchase'].apply(lambda x:np.percentile(x,75)).to_dict()\n",
    "train['Product_ID_75PercPrice'] = train['Product_ID'].apply(lambda x:productID_75p_dict.get(x,0))\n",
    "test['Product_ID_75PercPrice'] = test['Product_ID'].apply(lambda x:productID_75p_dict.get(x,0))\n",
    "\n",
    "\n",
    "\n",
    "pc1_25p_dict = train.groupby(['Product_Category_1'])['Purchase'].apply(lambda x:np.percentile(x,25)).to_dict()\n",
    "train['Product_Cat1_25PercPrice'] = train['Product_Category_1'].apply(lambda x:pc1_25p_dict.get(x,0))\n",
    "test['Product_Cat1_25PercPrice'] = test['Product_Category_1'].apply(lambda x:pc1_25p_dict.get(x,0))\n",
    "\n",
    "pc1_75p_dict = train.groupby(['Product_Category_1'])['Purchase'].apply(lambda x:np.percentile(x,75)).to_dict()\n",
    "train['Product_Cat1_75PercPrice'] = train['Product_Category_1'].apply(lambda x:pc1_75p_dict.get(x,0))\n",
    "test['Product_Cat1_75PercPrice'] = test['Product_Category_1'].apply(lambda x:pc1_75p_dict.get(x,0))\n",
    "\n",
    "\n",
    "\n",
    "pc2_25p_dict = train.groupby(['Product_Category_2'])['Purchase'].apply(lambda x:np.percentile(x,25)).to_dict()\n",
    "train['Product_Cat2_25PercPrice'] = train['Product_Category_2'].apply(lambda x:pc2_25p_dict.get(x,0))\n",
    "test['Product_Cat2_25PercPrice'] = test['Product_Category_2'].apply(lambda x:pc2_25p_dict.get(x,0))\n",
    "\n",
    "pc2_75p_dict = train.groupby(['Product_Category_2'])['Purchase'].apply(lambda x:np.percentile(x,75)).to_dict()\n",
    "train['Product_Cat2_75PercPrice'] = train['Product_Category_2'].apply(lambda x:pc2_75p_dict.get(x,0))\n",
    "test['Product_Cat2_75PercPrice'] = test['Product_Category_2'].apply(lambda x:pc2_75p_dict.get(x,0))\n",
    "\n",
    "\n",
    "\n",
    "\n",
    "pc3_25p_dict = train.groupby(['Product_Category_3'])['Purchase'].apply(lambda x:np.percentile(x,25)).to_dict()\n",
    "train['Product_Cat3_25PercPrice'] = train['Product_Category_3'].apply(lambda x:pc3_25p_dict.get(x,0))\n",
    "test['Product_Cat3_25PercPrice'] = test['Product_Category_3'].apply(lambda x:pc3_25p_dict.get(x,0))\n",
    "\n",
    "pc3_75p_dict = train.groupby(['Product_Category_3'])['Purchase'].apply(lambda x:np.percentile(x,75)).to_dict()\n",
    "train['Product_Cat3_75PercPrice'] = train['Product_Category_3'].apply(lambda x:pc3_75p_dict.get(x,0))\n",
    "test['Product_Cat3_75PercPrice'] = test['Product_Category_3'].apply(lambda x:pc3_75p_dict.get(x,0))"
   ]
  },
  {
   "cell_type": "code",
   "execution_count": null,
   "metadata": {},
   "outputs": [],
   "source": []
  },
  {
   "cell_type": "code",
   "execution_count": null,
   "metadata": {},
   "outputs": [],
   "source": [
    "train['Product_Category_2'].fillna(value='99',inplace = True)\n",
    "train['Product_Category_3'].fillna(value='99',inplace = True)\n",
    "test['Product_Category_2'].fillna(value='99',inplace = True)\n",
    "test['Product_Category_3'].fillna(value='99',inplace = True)\n",
    "train.isna().sum()"
   ]
  },
  {
   "cell_type": "code",
   "execution_count": null,
   "metadata": {},
   "outputs": [],
   "source": []
  },
  {
   "cell_type": "code",
   "execution_count": null,
   "metadata": {},
   "outputs": [],
   "source": [
    "train.drop('User_ID',axis=1,inplace=True)\n",
    "test.drop('User_ID',axis=1,inplace=True)\n",
    "train.drop('Product_ID',axis=1,inplace=True)\n",
    "test.drop('Product_ID',axis=1,inplace=True)"
   ]
  },
  {
   "cell_type": "code",
   "execution_count": null,
   "metadata": {},
   "outputs": [],
   "source": [
    "train.info()"
   ]
  },
  {
   "cell_type": "code",
   "execution_count": null,
   "metadata": {},
   "outputs": [],
   "source": [
    "# Box plot Analysis is performed to remove outliers\n",
    "\n",
    "sns.boxplot(train['Purchase'])\n",
    "\n",
    "q1 = train['Purchase'].quantile(0.25)\n",
    "q3 = train['Purchase'].quantile(0.75)\n",
    "iqr = q3-q1 #Interquartile range\n"
   ]
  },
  {
   "cell_type": "code",
   "execution_count": null,
   "metadata": {},
   "outputs": [],
   "source": [
    "fence_low  = q1-1.5*iqr\n",
    "fence_high = q3+1.5*iqr"
   ]
  },
  {
   "cell_type": "code",
   "execution_count": null,
   "metadata": {},
   "outputs": [],
   "source": [
    "train = train[(train['Purchase'] > fence_low) & (train['Purchase'] < fence_high)]"
   ]
  },
  {
   "cell_type": "code",
   "execution_count": null,
   "metadata": {},
   "outputs": [],
   "source": [
    "train.fillna(-999, inplace=True)\n",
    "test.fillna(-999, inplace=True)"
   ]
  },
  {
   "cell_type": "code",
   "execution_count": null,
   "metadata": {},
   "outputs": [],
   "source": [
    "train.info()"
   ]
  },
  {
   "cell_type": "code",
   "execution_count": null,
   "metadata": {},
   "outputs": [],
   "source": []
  },
  {
   "cell_type": "code",
   "execution_count": null,
   "metadata": {},
   "outputs": [],
   "source": [
    "feat_names = [i for i in train.columns]\n",
    "feat_names"
   ]
  },
  {
   "cell_type": "raw",
   "metadata": {},
   "source": [
    "#removing rows corresponding to the unique categorical values only available in train set, not in test set\n",
    "\n",
    "linear_train = linear_train.drop(linear_train[(linear_train['Product_Category_1']==19) | (linear_train['Product_Category_1']==20) | (linear_train['Product_Category_3']==2) | (linear_train['Product_Category_3']==7)].index)\n"
   ]
  },
  {
   "cell_type": "code",
   "execution_count": null,
   "metadata": {},
   "outputs": [],
   "source": [
    "# We need to change the variable type for categorical features it is important\n",
    "#chanding data type of categorical variable to string so as to one hot encode them using get_dummies\n",
    "for s in feat_names:\n",
    "    train[s] = x[s].astype(str)\n",
    "    test[s] = test[s].astype(str)"
   ]
  },
  {
   "cell_type": "code",
   "execution_count": null,
   "metadata": {},
   "outputs": [],
   "source": []
  },
  {
   "cell_type": "code",
   "execution_count": null,
   "metadata": {},
   "outputs": [],
   "source": [
    "#fig, ax = plt.subplots(figsize=(15,15))\n",
    "#sns.heatmap(train.corr(),annot=True)"
   ]
  },
  {
   "cell_type": "raw",
   "metadata": {},
   "source": [
    "May Be we can use I don't know how?\n",
    "\n",
    "# Aggregate transactions by customer_id\n",
    "transactionss = pd.pivot_table(customer_transact, index = \"customer_id\", \n",
    "               values=['item_id','quantity','selling_price', 'other_discount','coupon_discount'],\n",
    "               aggfunc={'item_id':len,\n",
    "                        'quantity':np.sum,\n",
    "                        'selling_price':np.sum,\n",
    "                        'other_discount':np.sum,\n",
    "                        'coupon_discount':np.sum}\n",
    "              )\n",
    "transactionss.reset_index(inplace=True)\n",
    "transactionss.rename(columns={'item_id': 'customer_id_count','quantity':'qa_sum','selling_price':'pprice_sum',\n",
    "                             'other_discount':'odd_sum','coupon_discount':'cdd_sum'  }, inplace=True)\n",
    "transactionss.head()"
   ]
  },
  {
   "cell_type": "code",
   "execution_count": null,
   "metadata": {},
   "outputs": [],
   "source": [
    "# Train data is separated into dependent and Independent Variable\n",
    "X = train.drop('Purchase',axis=1)\n",
    "Y = train['Purchase']   "
   ]
  },
  {
   "cell_type": "code",
   "execution_count": null,
   "metadata": {},
   "outputs": [],
   "source": [
    "#X = pd.DataFrame(X,columns=feat_names)\n",
    "#X.head()"
   ]
  },
  {
   "cell_type": "code",
   "execution_count": null,
   "metadata": {},
   "outputs": [],
   "source": [
    "#feat_names"
   ]
  },
  {
   "cell_type": "markdown",
   "metadata": {},
   "source": [
    "# To calculate VIF"
   ]
  },
  {
   "cell_type": "raw",
   "metadata": {},
   "source": [
    "model = sm.OLS(X['Product_ID'],X[['Gender', 'Age', 'Occupation', 'City_Category', 'Stay_In_Current_City_Years',\n",
    "                                  'Marital_Status', 'Product_Category_1', 'Product_Category_2', 'Product_Category_3']])\n",
    "result =model.fit()\n",
    "rsq=result.rsquared\n",
    "vif=round(1/(1-rsq),2)\n",
    "vif"
   ]
  },
  {
   "cell_type": "raw",
   "metadata": {},
   "source": [
    "# Multicollinearity Check:\n",
    "for i in range(0,len(feat_names)):\n",
    "    yy = X.loc[:, X.columns == feat_names[i]]\n",
    "    xx = X.loc[:, X.columns != feat_names[i]]\n",
    "    model = sm.OLS(yy, xx)\n",
    "    results = model.fit()\n",
    "    rsq = results.rsquared\n",
    "    vif = round(1 / (1 - rsq), 2)\n",
    "    print(\n",
    "        \"R Square value of {} column is {} keeping all other columns as features\".format(\n",
    "            feat_names[i], (round(rsq, 2))\n",
    "        ))\n",
    "    print(\n",
    "        \"Variance Inflation Factor of {} column is {} \\n\".format(\n",
    "            feat_names[i], vif)\n",
    "    )"
   ]
  },
  {
   "cell_type": "markdown",
   "metadata": {},
   "source": [
    "# Modeling"
   ]
  },
  {
   "cell_type": "code",
   "execution_count": null,
   "metadata": {},
   "outputs": [],
   "source": [
    "x_train, x_test, y_train, y_test = train_test_split(X,Y,test_size = 0.3,random_state =101)\n"
   ]
  },
  {
   "cell_type": "code",
   "execution_count": null,
   "metadata": {},
   "outputs": [],
   "source": [
    "x_train.isna().sum()"
   ]
  },
  {
   "cell_type": "code",
   "execution_count": null,
   "metadata": {},
   "outputs": [],
   "source": [
    "# poly_reg = PolynomialFeatures(degree = 4)\n",
    "# poly_reg.fit(x_train,y_train)\n",
    "# X_poly = poly_reg.fit_transform(x_train)"
   ]
  },
  {
   "cell_type": "code",
   "execution_count": null,
   "metadata": {},
   "outputs": [],
   "source": [
    "# lasso linear regressor\n",
    "lin_reg_lasso = linear_model.LassoLars(alpha=0.03,max_iter=101)\n",
    "# Linear Regressor\n",
    "lin_reg = LinearRegression()"
   ]
  },
  {
   "cell_type": "code",
   "execution_count": null,
   "metadata": {},
   "outputs": [],
   "source": [
    "# Linear model with linear features\n",
    "lin_reg.fit(x_train, y_train)\n",
    "\n",
    "linpred = lin_reg.predict(x_test)\n",
    "\n",
    "print(r2_score(y_test, linpred))"
   ]
  },
  {
   "cell_type": "code",
   "execution_count": null,
   "metadata": {},
   "outputs": [],
   "source": [
    "# Linear Lasso model with linear feature\n",
    "lin_reg_lasso.fit(x_train, y_train)\n",
    "\n",
    "linpredlaso = lin_reg_lasso.predict(x_test)\n",
    "\n",
    "print(r2_score(y_test, linpredlaso))"
   ]
  },
  {
   "cell_type": "code",
   "execution_count": null,
   "metadata": {},
   "outputs": [],
   "source": [
    "# Poly model with linear\n",
    "#Reg=lin_reg.fit(poly_reg.fit_transform(x_train), y_train)\n",
    "\n",
    "#polypred = lin_reg.predict(poly_reg.fit_transform(x_test))\n",
    "\n",
    "#print(r2_score(y_test, polypred))"
   ]
  },
  {
   "cell_type": "code",
   "execution_count": null,
   "metadata": {},
   "outputs": [],
   "source": [
    "# Poly model with Lasso\n",
    "#Reg2=lin_reg_lasso.fit(poly_reg.fit_transform(x_train), y_train)\n",
    "\n",
    "#polypred_laso = lin_reg_lasso.predict(poly_reg.fit_transform(x_test))\n",
    "\n",
    "#print(r2_score(y_test, polypred_laso))"
   ]
  },
  {
   "cell_type": "code",
   "execution_count": null,
   "metadata": {},
   "outputs": [],
   "source": []
  },
  {
   "cell_type": "code",
   "execution_count": null,
   "metadata": {},
   "outputs": [],
   "source": []
  },
  {
   "cell_type": "code",
   "execution_count": null,
   "metadata": {},
   "outputs": [],
   "source": []
  },
  {
   "cell_type": "code",
   "execution_count": null,
   "metadata": {},
   "outputs": [],
   "source": []
  },
  {
   "cell_type": "code",
   "execution_count": null,
   "metadata": {},
   "outputs": [],
   "source": []
  },
  {
   "cell_type": "code",
   "execution_count": null,
   "metadata": {},
   "outputs": [],
   "source": []
  },
  {
   "cell_type": "code",
   "execution_count": null,
   "metadata": {},
   "outputs": [],
   "source": []
  },
  {
   "cell_type": "code",
   "execution_count": null,
   "metadata": {},
   "outputs": [],
   "source": []
  },
  {
   "cell_type": "code",
   "execution_count": null,
   "metadata": {},
   "outputs": [],
   "source": []
  },
  {
   "cell_type": "code",
   "execution_count": null,
   "metadata": {},
   "outputs": [],
   "source": []
  },
  {
   "cell_type": "code",
   "execution_count": null,
   "metadata": {},
   "outputs": [],
   "source": []
  },
  {
   "cell_type": "code",
   "execution_count": null,
   "metadata": {},
   "outputs": [],
   "source": []
  },
  {
   "cell_type": "code",
   "execution_count": null,
   "metadata": {},
   "outputs": [],
   "source": []
  },
  {
   "cell_type": "code",
   "execution_count": null,
   "metadata": {},
   "outputs": [],
   "source": []
  },
  {
   "cell_type": "code",
   "execution_count": null,
   "metadata": {},
   "outputs": [],
   "source": []
  },
  {
   "cell_type": "code",
   "execution_count": null,
   "metadata": {},
   "outputs": [],
   "source": []
  }
 ],
 "metadata": {
  "kernelspec": {
   "display_name": "Python 3",
   "language": "python",
   "name": "python3"
  },
  "language_info": {
   "codemirror_mode": {
    "name": "ipython",
    "version": 3
   },
   "file_extension": ".py",
   "mimetype": "text/x-python",
   "name": "python",
   "nbconvert_exporter": "python",
   "pygments_lexer": "ipython3",
   "version": "3.7.3"
  }
 },
 "nbformat": 4,
 "nbformat_minor": 2
}
